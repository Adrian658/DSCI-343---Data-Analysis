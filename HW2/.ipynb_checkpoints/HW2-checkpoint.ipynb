{
 "cells": [
  {
   "cell_type": "code",
   "execution_count": 88,
   "metadata": {},
   "outputs": [],
   "source": [
    "import pandas as pd\n",
    "import numpy as np\n",
    "from sklearn import metrics\n",
    "import seaborn as sns\n",
    "import scipy.stats as scipystats\n",
    "import sklearn.feature_selection as skfeatureselect\n",
    "import math"
   ]
  },
  {
   "cell_type": "code",
   "execution_count": 115,
   "metadata": {},
   "outputs": [],
   "source": [
    "def exact_mc_perm_test(xs, ys, nmc, statistic='normal'):\n",
    "    n = len(xs)\n",
    "    k = 0\n",
    "    #Difference between means of both vectors\n",
    "    diff = np.abs(np.mean(xs) - np.mean(ys))\n",
    "    m_score = metrics.mutual_info_score(xs, ys)\n",
    "    j_score = metrics.jaccard_score(xs, ys)\n",
    "    zs = np.concatenate([xs, ys])\n",
    "    for j in range(nmc):\n",
    "        np.random.shuffle(zs)\n",
    "        if statistic == 'normal':\n",
    "            #increment if difference between means is greater than original difference\n",
    "            k += diff <= np.abs(np.mean(zs[:n]) - np.mean(zs[n:]))\n",
    "        elif statistic == 'mutual_info':\n",
    "            #If mutual score of permuted version is lower, increment count\n",
    "            k += m_score > metrics.mutual_info_score(zs[:n], zs[n:])\n",
    "        elif statistic == 'jaccard_index':\n",
    "            k += j_score > metrics.jaccard_score(zs[:n], zs[n:])\n",
    "    return (k+1)/ (nmc+1)"
   ]
  },
  {
   "cell_type": "code",
   "execution_count": 118,
   "metadata": {},
   "outputs": [
    {
     "data": {
      "text/plain": [
       "0.9992001599680064"
      ]
     },
     "execution_count": 118,
     "metadata": {},
     "output_type": "execute_result"
    }
   ],
   "source": [
    "exact_mc_perm_test(gene1, gene2, 5000, 'mutual_info')"
   ]
  },
  {
   "cell_type": "markdown",
   "metadata": {},
   "source": [
    "## Problem 1a"
   ]
  },
  {
   "cell_type": "code",
   "execution_count": 3,
   "metadata": {
    "scrolled": true
   },
   "outputs": [
    {
     "data": {
      "text/html": [
       "<div>\n",
       "<style scoped>\n",
       "    .dataframe tbody tr th:only-of-type {\n",
       "        vertical-align: middle;\n",
       "    }\n",
       "\n",
       "    .dataframe tbody tr th {\n",
       "        vertical-align: top;\n",
       "    }\n",
       "\n",
       "    .dataframe thead th {\n",
       "        text-align: right;\n",
       "    }\n",
       "</style>\n",
       "<table border=\"1\" class=\"dataframe\">\n",
       "  <thead>\n",
       "    <tr style=\"text-align: right;\">\n",
       "      <th></th>\n",
       "      <th>0</th>\n",
       "      <th>0.1</th>\n",
       "    </tr>\n",
       "  </thead>\n",
       "  <tbody>\n",
       "    <tr>\n",
       "      <th>0</th>\n",
       "      <td>1</td>\n",
       "      <td>0</td>\n",
       "    </tr>\n",
       "    <tr>\n",
       "      <th>1</th>\n",
       "      <td>0</td>\n",
       "      <td>0</td>\n",
       "    </tr>\n",
       "    <tr>\n",
       "      <th>2</th>\n",
       "      <td>0</td>\n",
       "      <td>0</td>\n",
       "    </tr>\n",
       "    <tr>\n",
       "      <th>3</th>\n",
       "      <td>1</td>\n",
       "      <td>0</td>\n",
       "    </tr>\n",
       "    <tr>\n",
       "      <th>4</th>\n",
       "      <td>1</td>\n",
       "      <td>0</td>\n",
       "    </tr>\n",
       "    <tr>\n",
       "      <th>5</th>\n",
       "      <td>0</td>\n",
       "      <td>0</td>\n",
       "    </tr>\n",
       "    <tr>\n",
       "      <th>6</th>\n",
       "      <td>1</td>\n",
       "      <td>0</td>\n",
       "    </tr>\n",
       "    <tr>\n",
       "      <th>7</th>\n",
       "      <td>0</td>\n",
       "      <td>0</td>\n",
       "    </tr>\n",
       "    <tr>\n",
       "      <th>8</th>\n",
       "      <td>1</td>\n",
       "      <td>0</td>\n",
       "    </tr>\n",
       "    <tr>\n",
       "      <th>9</th>\n",
       "      <td>0</td>\n",
       "      <td>0</td>\n",
       "    </tr>\n",
       "    <tr>\n",
       "      <th>10</th>\n",
       "      <td>0</td>\n",
       "      <td>0</td>\n",
       "    </tr>\n",
       "    <tr>\n",
       "      <th>11</th>\n",
       "      <td>1</td>\n",
       "      <td>0</td>\n",
       "    </tr>\n",
       "    <tr>\n",
       "      <th>12</th>\n",
       "      <td>0</td>\n",
       "      <td>0</td>\n",
       "    </tr>\n",
       "    <tr>\n",
       "      <th>13</th>\n",
       "      <td>0</td>\n",
       "      <td>0</td>\n",
       "    </tr>\n",
       "    <tr>\n",
       "      <th>14</th>\n",
       "      <td>0</td>\n",
       "      <td>0</td>\n",
       "    </tr>\n",
       "    <tr>\n",
       "      <th>15</th>\n",
       "      <td>1</td>\n",
       "      <td>0</td>\n",
       "    </tr>\n",
       "    <tr>\n",
       "      <th>16</th>\n",
       "      <td>1</td>\n",
       "      <td>0</td>\n",
       "    </tr>\n",
       "    <tr>\n",
       "      <th>17</th>\n",
       "      <td>0</td>\n",
       "      <td>0</td>\n",
       "    </tr>\n",
       "    <tr>\n",
       "      <th>18</th>\n",
       "      <td>0</td>\n",
       "      <td>0</td>\n",
       "    </tr>\n",
       "    <tr>\n",
       "      <th>19</th>\n",
       "      <td>0</td>\n",
       "      <td>0</td>\n",
       "    </tr>\n",
       "    <tr>\n",
       "      <th>20</th>\n",
       "      <td>0</td>\n",
       "      <td>0</td>\n",
       "    </tr>\n",
       "    <tr>\n",
       "      <th>21</th>\n",
       "      <td>0</td>\n",
       "      <td>0</td>\n",
       "    </tr>\n",
       "    <tr>\n",
       "      <th>22</th>\n",
       "      <td>0</td>\n",
       "      <td>0</td>\n",
       "    </tr>\n",
       "    <tr>\n",
       "      <th>23</th>\n",
       "      <td>0</td>\n",
       "      <td>0</td>\n",
       "    </tr>\n",
       "    <tr>\n",
       "      <th>24</th>\n",
       "      <td>0</td>\n",
       "      <td>0</td>\n",
       "    </tr>\n",
       "    <tr>\n",
       "      <th>25</th>\n",
       "      <td>1</td>\n",
       "      <td>0</td>\n",
       "    </tr>\n",
       "    <tr>\n",
       "      <th>26</th>\n",
       "      <td>0</td>\n",
       "      <td>0</td>\n",
       "    </tr>\n",
       "    <tr>\n",
       "      <th>27</th>\n",
       "      <td>0</td>\n",
       "      <td>0</td>\n",
       "    </tr>\n",
       "    <tr>\n",
       "      <th>28</th>\n",
       "      <td>0</td>\n",
       "      <td>0</td>\n",
       "    </tr>\n",
       "    <tr>\n",
       "      <th>29</th>\n",
       "      <td>0</td>\n",
       "      <td>0</td>\n",
       "    </tr>\n",
       "    <tr>\n",
       "      <th>...</th>\n",
       "      <td>...</td>\n",
       "      <td>...</td>\n",
       "    </tr>\n",
       "    <tr>\n",
       "      <th>168</th>\n",
       "      <td>0</td>\n",
       "      <td>1</td>\n",
       "    </tr>\n",
       "    <tr>\n",
       "      <th>169</th>\n",
       "      <td>0</td>\n",
       "      <td>0</td>\n",
       "    </tr>\n",
       "    <tr>\n",
       "      <th>170</th>\n",
       "      <td>0</td>\n",
       "      <td>0</td>\n",
       "    </tr>\n",
       "    <tr>\n",
       "      <th>171</th>\n",
       "      <td>1</td>\n",
       "      <td>0</td>\n",
       "    </tr>\n",
       "    <tr>\n",
       "      <th>172</th>\n",
       "      <td>1</td>\n",
       "      <td>0</td>\n",
       "    </tr>\n",
       "    <tr>\n",
       "      <th>173</th>\n",
       "      <td>1</td>\n",
       "      <td>0</td>\n",
       "    </tr>\n",
       "    <tr>\n",
       "      <th>174</th>\n",
       "      <td>1</td>\n",
       "      <td>0</td>\n",
       "    </tr>\n",
       "    <tr>\n",
       "      <th>175</th>\n",
       "      <td>0</td>\n",
       "      <td>0</td>\n",
       "    </tr>\n",
       "    <tr>\n",
       "      <th>176</th>\n",
       "      <td>1</td>\n",
       "      <td>0</td>\n",
       "    </tr>\n",
       "    <tr>\n",
       "      <th>177</th>\n",
       "      <td>1</td>\n",
       "      <td>0</td>\n",
       "    </tr>\n",
       "    <tr>\n",
       "      <th>178</th>\n",
       "      <td>0</td>\n",
       "      <td>0</td>\n",
       "    </tr>\n",
       "    <tr>\n",
       "      <th>179</th>\n",
       "      <td>0</td>\n",
       "      <td>0</td>\n",
       "    </tr>\n",
       "    <tr>\n",
       "      <th>180</th>\n",
       "      <td>0</td>\n",
       "      <td>0</td>\n",
       "    </tr>\n",
       "    <tr>\n",
       "      <th>181</th>\n",
       "      <td>0</td>\n",
       "      <td>0</td>\n",
       "    </tr>\n",
       "    <tr>\n",
       "      <th>182</th>\n",
       "      <td>0</td>\n",
       "      <td>0</td>\n",
       "    </tr>\n",
       "    <tr>\n",
       "      <th>183</th>\n",
       "      <td>0</td>\n",
       "      <td>0</td>\n",
       "    </tr>\n",
       "    <tr>\n",
       "      <th>184</th>\n",
       "      <td>0</td>\n",
       "      <td>1</td>\n",
       "    </tr>\n",
       "    <tr>\n",
       "      <th>185</th>\n",
       "      <td>1</td>\n",
       "      <td>0</td>\n",
       "    </tr>\n",
       "    <tr>\n",
       "      <th>186</th>\n",
       "      <td>1</td>\n",
       "      <td>0</td>\n",
       "    </tr>\n",
       "    <tr>\n",
       "      <th>187</th>\n",
       "      <td>1</td>\n",
       "      <td>0</td>\n",
       "    </tr>\n",
       "    <tr>\n",
       "      <th>188</th>\n",
       "      <td>0</td>\n",
       "      <td>1</td>\n",
       "    </tr>\n",
       "    <tr>\n",
       "      <th>189</th>\n",
       "      <td>0</td>\n",
       "      <td>0</td>\n",
       "    </tr>\n",
       "    <tr>\n",
       "      <th>190</th>\n",
       "      <td>0</td>\n",
       "      <td>0</td>\n",
       "    </tr>\n",
       "    <tr>\n",
       "      <th>191</th>\n",
       "      <td>0</td>\n",
       "      <td>0</td>\n",
       "    </tr>\n",
       "    <tr>\n",
       "      <th>192</th>\n",
       "      <td>0</td>\n",
       "      <td>0</td>\n",
       "    </tr>\n",
       "    <tr>\n",
       "      <th>193</th>\n",
       "      <td>0</td>\n",
       "      <td>1</td>\n",
       "    </tr>\n",
       "    <tr>\n",
       "      <th>194</th>\n",
       "      <td>0</td>\n",
       "      <td>0</td>\n",
       "    </tr>\n",
       "    <tr>\n",
       "      <th>195</th>\n",
       "      <td>1</td>\n",
       "      <td>0</td>\n",
       "    </tr>\n",
       "    <tr>\n",
       "      <th>196</th>\n",
       "      <td>0</td>\n",
       "      <td>0</td>\n",
       "    </tr>\n",
       "    <tr>\n",
       "      <th>197</th>\n",
       "      <td>0</td>\n",
       "      <td>0</td>\n",
       "    </tr>\n",
       "  </tbody>\n",
       "</table>\n",
       "<p>198 rows × 2 columns</p>\n",
       "</div>"
      ],
      "text/plain": [
       "     0  0.1\n",
       "0    1    0\n",
       "1    0    0\n",
       "2    0    0\n",
       "3    1    0\n",
       "4    1    0\n",
       "5    0    0\n",
       "6    1    0\n",
       "7    0    0\n",
       "8    1    0\n",
       "9    0    0\n",
       "10   0    0\n",
       "11   1    0\n",
       "12   0    0\n",
       "13   0    0\n",
       "14   0    0\n",
       "15   1    0\n",
       "16   1    0\n",
       "17   0    0\n",
       "18   0    0\n",
       "19   0    0\n",
       "20   0    0\n",
       "21   0    0\n",
       "22   0    0\n",
       "23   0    0\n",
       "24   0    0\n",
       "25   1    0\n",
       "26   0    0\n",
       "27   0    0\n",
       "28   0    0\n",
       "29   0    0\n",
       "..  ..  ...\n",
       "168  0    1\n",
       "169  0    0\n",
       "170  0    0\n",
       "171  1    0\n",
       "172  1    0\n",
       "173  1    0\n",
       "174  1    0\n",
       "175  0    0\n",
       "176  1    0\n",
       "177  1    0\n",
       "178  0    0\n",
       "179  0    0\n",
       "180  0    0\n",
       "181  0    0\n",
       "182  0    0\n",
       "183  0    0\n",
       "184  0    1\n",
       "185  1    0\n",
       "186  1    0\n",
       "187  1    0\n",
       "188  0    1\n",
       "189  0    0\n",
       "190  0    0\n",
       "191  0    0\n",
       "192  0    0\n",
       "193  0    1\n",
       "194  0    0\n",
       "195  1    0\n",
       "196  0    0\n",
       "197  0    0\n",
       "\n",
       "[198 rows x 2 columns]"
      ]
     },
     "execution_count": 3,
     "metadata": {},
     "output_type": "execute_result"
    }
   ],
   "source": [
    "p1a = pd.read_csv(\"p1a.csv\")\n",
    "p1a"
   ]
  },
  {
   "cell_type": "code",
   "execution_count": 13,
   "metadata": {},
   "outputs": [],
   "source": [
    "gene1 = p1a['0']\n",
    "gene2 = p1a['0.1']"
   ]
  },
  {
   "cell_type": "code",
   "execution_count": 31,
   "metadata": {
    "scrolled": false
   },
   "outputs": [
    {
     "data": {
      "text/plain": [
       "{'00': 127, '01': 21, '10': 50, '11': 0}"
      ]
     },
     "execution_count": 31,
     "metadata": {},
     "output_type": "execute_result"
    }
   ],
   "source": [
    "temp = {\n",
    "    \"00\": 0,\n",
    "    \"01\": 0,\n",
    "    \"10\": 0,\n",
    "    \"11\": 0\n",
    "}\n",
    "for x in p1a.iterrows():\n",
    "    temp[str(x[1]['0']) + str(x[1]['0.1'])] += 1\n",
    "temp"
   ]
  },
  {
   "cell_type": "markdown",
   "metadata": {},
   "source": [
    "#### Mutual Information"
   ]
  },
  {
   "cell_type": "code",
   "execution_count": 85,
   "metadata": {},
   "outputs": [
    {
     "data": {
      "text/plain": [
       "7.6293566200796095"
      ]
     },
     "execution_count": 85,
     "metadata": {},
     "output_type": "execute_result"
    }
   ],
   "source": [
    "math.log(len(gene1), 2)"
   ]
  },
  {
   "cell_type": "code",
   "execution_count": 102,
   "metadata": {},
   "outputs": [
    {
     "data": {
      "text/plain": [
       "0.032942994318698515"
      ]
     },
     "execution_count": 102,
     "metadata": {},
     "output_type": "execute_result"
    }
   ],
   "source": [
    "metrics.mutual_info_score(gene1, gene2)"
   ]
  },
  {
   "cell_type": "markdown",
   "metadata": {},
   "source": [
    "#### Jaccard Index"
   ]
  },
  {
   "cell_type": "code",
   "execution_count": 32,
   "metadata": {},
   "outputs": [
    {
     "data": {
      "text/plain": [
       "0.0"
      ]
     },
     "execution_count": 32,
     "metadata": {},
     "output_type": "execute_result"
    }
   ],
   "source": [
    "metrics.jaccard_score(gene1, gene2)"
   ]
  },
  {
   "cell_type": "markdown",
   "metadata": {},
   "source": [
    "#### Pearsons chi-squared"
   ]
  },
  {
   "cell_type": "code",
   "execution_count": 43,
   "metadata": {},
   "outputs": [
    {
     "name": "stdout",
     "output_type": "stream",
     "text": [
      "[127, 21, 50, 0]\n",
      "[49.5, 49.5, 49.5, 49.5]\n"
     ]
    }
   ],
   "source": [
    "observed_frequencies = [temp['00'], temp['01'], temp['10'], temp['11']]\n",
    "expected_frequencies = [len(p1a)/4]*4\n",
    "print(observed_frequencies)\n",
    "print(expected_frequencies)"
   ]
  },
  {
   "cell_type": "code",
   "execution_count": 46,
   "metadata": {},
   "outputs": [
    {
     "data": {
      "text/plain": [
       "(95.05353420105166,\n",
       " 1.798085918574209e-20,\n",
       " 3,\n",
       " array([[88.25, 35.25, 49.75, 24.75],\n",
       "        [88.25, 35.25, 49.75, 24.75]]))"
      ]
     },
     "execution_count": 46,
     "metadata": {},
     "output_type": "execute_result"
    }
   ],
   "source": [
    "obs = np.array([observed_frequencies, expected_frequencies])\n",
    "scipystats.chi2_contingency(obs)"
   ]
  },
  {
   "cell_type": "code",
   "execution_count": 45,
   "metadata": {},
   "outputs": [
    {
     "data": {
      "text/plain": [
       "Power_divergenceResult(statistic=187.25252525252523, pvalue=2.393787984132903e-40)"
      ]
     },
     "execution_count": 45,
     "metadata": {},
     "output_type": "execute_result"
    }
   ],
   "source": [
    "scipy.stats.chisquare(f_obs=observed_frequencies, f_exp=expected_frequencies)"
   ]
  },
  {
   "cell_type": "markdown",
   "metadata": {},
   "source": [
    "# Mutual Information Implementation"
   ]
  },
  {
   "cell_type": "code",
   "execution_count": 93,
   "metadata": {},
   "outputs": [],
   "source": [
    "from __future__ import division\n",
    "from numpy  import array, shape, where, in1d\n",
    "import math\n",
    "import time\n",
    "import nose\n",
    "\n",
    "class InformationTheoryTool:\n",
    "    \n",
    "    def __init__(self, data):\n",
    "        \"\"\"\n",
    "        \"\"\"\n",
    "        # Check if all rows have the same length\n",
    "        assert (len(data.shape) == 2)\n",
    "        # Save data\n",
    "        self.data = data\n",
    "        self.n_rows = data.shape[0]\n",
    "        self.n_cols = data.shape[1]\n",
    "        \n",
    "        \n",
    "    def single_entropy(self, x_index, log_base, debug = False):\n",
    "        \"\"\"\n",
    "        Calculate the entropy of a random variable\n",
    "        \"\"\"\n",
    "        # Check if index are into the bounds\n",
    "        assert (x_index >= 0 and x_index <= self.n_rows)\n",
    "        # Variable to return entropy\n",
    "        summation = 0.0\n",
    "        # Get uniques values of random variables\n",
    "        values_x = set(data[x_index])\n",
    "        # Print debug info\n",
    "        # For each random\n",
    "        for value_x in values_x:\n",
    "            px = shape(where(data[x_index]==value_x))[1] / self.n_cols\n",
    "            if px > 0.0:\n",
    "                summation += px * math.log(px, log_base)\n",
    "        if summation == 0.0:\n",
    "            return summation\n",
    "        else:\n",
    "            return - summation\n",
    "        \n",
    "        \n",
    "    def entropy(self, x_index, y_index, log_base, debug = False):\n",
    "        \"\"\"\n",
    "        Calculate the entropy between two random variable\n",
    "        \"\"\"\n",
    "        assert (x_index >= 0 and x_index <= self.n_rows)\n",
    "        assert (y_index >= 0 and y_index <= self.n_rows)\n",
    "        # Variable to return MI\n",
    "        summation = 0.0\n",
    "        # Get uniques values of random variables\n",
    "        values_x = set(data[x_index])\n",
    "        values_y = set(data[y_index])\n",
    "        # Print debug info\n",
    "        # For each random\n",
    "        for value_x in values_x:\n",
    "            for value_y in values_y:\n",
    "                pxy = len(where(in1d(where(data[x_index]==value_x)[0], \n",
    "                                where(data[y_index]==value_y)[0])==True)[0]) / self.n_cols\n",
    "                if pxy > 0.0:\n",
    "                    summation += pxy * math.log(pxy, log_base)\n",
    "        if summation == 0.0:\n",
    "            return summation\n",
    "        else:\n",
    "            return - summation\n",
    "        \n",
    "        \n",
    "        \n",
    "    def mutual_information(self, x_index, y_index, log_base, debug = False):\n",
    "        \"\"\"\n",
    "        Calculate and return Mutual information between two random variables\n",
    "        \"\"\"\n",
    "        # Check if index are into the bounds\n",
    "        assert (x_index >= 0 and x_index <= self.n_rows)\n",
    "        assert (y_index >= 0 and y_index <= self.n_rows)\n",
    "        # Variable to return MI\n",
    "        summation = 0.0\n",
    "        # Get uniques values of random variables\n",
    "        values_x = set(data[x_index])\n",
    "        values_y = set(data[y_index])\n",
    "        # Print debug info\n",
    "        # For each random\n",
    "        for value_x in values_x:\n",
    "            for value_y in values_y:\n",
    "                px = shape(where(data[x_index]==value_x))[1] / self.n_cols\n",
    "                py = shape(where(data[y_index]==value_y))[1] / self.n_cols\n",
    "                pxy = len(where(in1d(where(data[x_index]==value_x)[0], \n",
    "                                where(data[y_index]==value_y)[0])==True)[0]) / self.n_cols\n",
    "                if pxy > 0.0:\n",
    "                    summation += pxy * math.log((pxy / (px*py)), log_base)\n",
    "        return summation"
   ]
  },
  {
   "cell_type": "code",
   "execution_count": 100,
   "metadata": {},
   "outputs": [],
   "source": [
    "# Define data array\n",
    "data = array( [ gene1,\n",
    "                gene2])\n",
    "# Create object\n",
    "it_tool = InformationTheoryTool(data)"
   ]
  },
  {
   "cell_type": "code",
   "execution_count": 101,
   "metadata": {},
   "outputs": [
    {
     "name": "stdout",
     "output_type": "stream",
     "text": [
      "MI(X_0, X_1): 0.014307\n",
      "Elapsed time: 0.005373\n",
      "\n"
     ]
    }
   ],
   "source": [
    "t_start = time.time()\n",
    "print('MI(X_0, X_1): %f' % it_tool.mutual_information(0, 1, 10))\n",
    "print('Elapsed time: %f\\n' % (time.time() - t_start))"
   ]
  }
 ],
 "metadata": {
  "kernelspec": {
   "display_name": "Python 3",
   "language": "python",
   "name": "python3"
  },
  "language_info": {
   "codemirror_mode": {
    "name": "ipython",
    "version": 3
   },
   "file_extension": ".py",
   "mimetype": "text/x-python",
   "name": "python",
   "nbconvert_exporter": "python",
   "pygments_lexer": "ipython3",
   "version": "3.7.3"
  }
 },
 "nbformat": 4,
 "nbformat_minor": 2
}
